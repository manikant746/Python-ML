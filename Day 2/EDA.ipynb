{
 "cells": [
  {
   "cell_type": "markdown",
   "id": "40c32325",
   "metadata": {},
   "source": [
    "### Exploratory Data Analysis"
   ]
  },
  {
   "cell_type": "markdown",
   "id": "f8534b56",
   "metadata": {},
   "source": [
    "**Income Analysis:**\n",
    "\n",
    "- What is the average applicant income for those who are self-employed vs. not self-employed?\n",
    "\n",
    "- How does the co-applicant income vary between married and unmarried applicants?\n",
    "\n",
    "- What is the distribution of total income (applicant + co-applicant) across different education levels?"
   ]
  },
  {
   "cell_type": "code",
   "execution_count": null,
   "id": "645da184",
   "metadata": {},
   "outputs": [],
   "source": []
  },
  {
   "cell_type": "code",
   "execution_count": null,
   "id": "a40d323c",
   "metadata": {},
   "outputs": [],
   "source": []
  },
  {
   "cell_type": "code",
   "execution_count": null,
   "id": "dcd871c1",
   "metadata": {},
   "outputs": [],
   "source": []
  },
  {
   "cell_type": "markdown",
   "id": "5097f068",
   "metadata": {},
   "source": [
    "**Loan Amount:**\n",
    "\n",
    "- What is the average loan amount for different property areas (Urban, Rural, etc.)?\n",
    "- How does the loan amount vary between married and unmarried applicants?\n",
    "- What is the correlation between applicant income and loan amount?"
   ]
  },
  {
   "cell_type": "code",
   "execution_count": null,
   "id": "6eb7d1d4",
   "metadata": {},
   "outputs": [],
   "source": []
  },
  {
   "cell_type": "code",
   "execution_count": null,
   "id": "5da55839",
   "metadata": {},
   "outputs": [],
   "source": []
  },
  {
   "cell_type": "code",
   "execution_count": null,
   "id": "cde5b9aa",
   "metadata": {},
   "outputs": [],
   "source": []
  },
  {
   "cell_type": "markdown",
   "id": "7cf0f73e",
   "metadata": {},
   "source": [
    "**Loan Approval:**\n",
    "\n",
    "- What percentage of loans were approved (Loan_Status = 'Y') based on different education levels (Graduate vs. Not Graduate)?\n",
    "- Does credit history affect loan approval? What is the approval rate for applicants with credit history vs. no credit history?\n",
    "- What is the loan approval rate for applicants from different property areas?"
   ]
  },
  {
   "cell_type": "code",
   "execution_count": null,
   "id": "3604c1cb",
   "metadata": {},
   "outputs": [],
   "source": []
  },
  {
   "cell_type": "code",
   "execution_count": null,
   "id": "9d1904fd",
   "metadata": {},
   "outputs": [],
   "source": []
  },
  {
   "cell_type": "code",
   "execution_count": null,
   "id": "c0f638a3",
   "metadata": {},
   "outputs": [],
   "source": []
  },
  {
   "cell_type": "markdown",
   "id": "34ba0b68",
   "metadata": {},
   "source": [
    "**Dependents and Loan Status:**\n",
    "\n",
    "- How does the number of dependents affect the chances of loan approval?\n",
    "- What is the distribution of dependents across different education levels?"
   ]
  },
  {
   "cell_type": "code",
   "execution_count": null,
   "id": "3a80f9cd",
   "metadata": {},
   "outputs": [],
   "source": []
  },
  {
   "cell_type": "code",
   "execution_count": null,
   "id": "75f66f11",
   "metadata": {},
   "outputs": [],
   "source": []
  },
  {
   "cell_type": "code",
   "execution_count": null,
   "id": "3fa314bf",
   "metadata": {},
   "outputs": [],
   "source": []
  },
  {
   "cell_type": "markdown",
   "id": "76c57fee",
   "metadata": {},
   "source": [
    "**Credit History:**\n",
    "\n",
    "- How does credit history (Credit_History = 1 or 0) influence the loan amount sanctioned?\n",
    "- What is the relationship between credit history and property area in terms of loan approval?"
   ]
  },
  {
   "cell_type": "code",
   "execution_count": null,
   "id": "1c77fc54",
   "metadata": {},
   "outputs": [],
   "source": []
  },
  {
   "cell_type": "code",
   "execution_count": null,
   "id": "0f7ad373",
   "metadata": {},
   "outputs": [],
   "source": []
  },
  {
   "cell_type": "code",
   "execution_count": null,
   "id": "ff35ddb9",
   "metadata": {},
   "outputs": [],
   "source": []
  },
  {
   "cell_type": "markdown",
   "id": "764f24e0",
   "metadata": {},
   "source": [
    "**Applicant Profile and Loan Amount:**\n",
    "\n",
    "- What is the average loan amount for graduates vs. non-graduates?\n",
    "- What is the most common loan amount term (Loan_Amount_Term) for different applicant incomes?"
   ]
  },
  {
   "cell_type": "code",
   "execution_count": null,
   "id": "5ade569b",
   "metadata": {},
   "outputs": [],
   "source": []
  },
  {
   "cell_type": "code",
   "execution_count": null,
   "id": "aaea052d",
   "metadata": {},
   "outputs": [],
   "source": []
  },
  {
   "cell_type": "code",
   "execution_count": null,
   "id": "8e33ba89",
   "metadata": {},
   "outputs": [],
   "source": []
  },
  {
   "cell_type": "markdown",
   "id": "977d8da5",
   "metadata": {},
   "source": [
    "#### Correlation"
   ]
  },
  {
   "cell_type": "code",
   "execution_count": null,
   "id": "7d5145db",
   "metadata": {},
   "outputs": [],
   "source": []
  }
 ],
 "metadata": {
  "kernelspec": {
   "display_name": "Python 3 (ipykernel)",
   "language": "python",
   "name": "python3"
  },
  "language_info": {
   "codemirror_mode": {
    "name": "ipython",
    "version": 3
   },
   "file_extension": ".py",
   "mimetype": "text/x-python",
   "name": "python",
   "nbconvert_exporter": "python",
   "pygments_lexer": "ipython3",
   "version": "3.11.5"
  }
 },
 "nbformat": 4,
 "nbformat_minor": 5
}
