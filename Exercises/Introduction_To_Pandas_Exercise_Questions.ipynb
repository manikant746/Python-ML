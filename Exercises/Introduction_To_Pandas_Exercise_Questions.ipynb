{
 "cells": [
  {
   "cell_type": "code",
   "execution_count": 2,
   "id": "5e39a5b7",
   "metadata": {},
   "outputs": [],
   "source": [
    "## Questions:\n",
    "\n",
    "## 1. Create and display a pandas series containing the first 5 prime numbers\n",
    "## 2. Create two series of first 5 prime numbers and first 5 composite numbers respectively, \n",
    "#and perform multiplication on both\n",
    "## 3. Retrieve the 3rd and 4th series elements from the composite number series created in \n",
    "#the previous question\n",
    "## 4. Add the composite number series created to the prime number series\n",
    "## 5. From the prime number series created in Q1, remove the even prime number"
   ]
  }
 ],
 "metadata": {
  "kernelspec": {
   "display_name": "Python 3 (ipykernel)",
   "language": "python",
   "name": "python3"
  },
  "language_info": {
   "codemirror_mode": {
    "name": "ipython",
    "version": 3
   },
   "file_extension": ".py",
   "mimetype": "text/x-python",
   "name": "python",
   "nbconvert_exporter": "python",
   "pygments_lexer": "ipython3",
   "version": "3.11.5"
  }
 },
 "nbformat": 4,
 "nbformat_minor": 5
}
