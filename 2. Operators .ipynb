{
 "cells": [
  {
   "cell_type": "markdown",
   "id": "1bb3753a",
   "metadata": {},
   "source": [
    "### Operators\n",
    "\n",
    "                - Arithmetic \n",
    "                \n",
    "                - Bitwise\n",
    "                \n",
    "                - Boolean/Logical\n",
    "                \n",
    "                - Relational\n",
    "                \n",
    "                - Operators precedence\n"
   ]
  },
  {
   "cell_type": "markdown",
   "id": "4a90a2e4",
   "metadata": {},
   "source": [
    "### Operators \n",
    "\n",
    "Operators are used to perform operations on variables and values.OPERATORS: Are the special symbols. Eg- + , * , /, etc.\n",
    "\n",
    "- Arithmetic operators\n",
    "- Bitwise operators\n",
    "- Boolean operators\n",
    "- Assignment operators\n",
    "- Relational operators\n",
    "- Operators precedence"
   ]
  },
  {
   "cell_type": "markdown",
   "id": "606ffde7",
   "metadata": {},
   "source": [
    "#### Arithmetic operators"
   ]
  },
  {
   "cell_type": "raw",
   "id": "9f966d27",
   "metadata": {},
   "source": [
    "Operator\tDescription\tSyntax\n",
    "+\t          Addition: adds two operands\tx + y\n",
    "–\t          Subtraction: subtracts two operands\tx – y\n",
    "*\t          Multiplication: multiplies two operands\tx * y\n",
    "/\t          Division (float): divides the first operand by the second\tx / y\n",
    "//\t          Division (floor): divides the first operand by the second\tx // y\n",
    "%\t          Modulus: returns the remainder when the first operand is divided by the second\tx % y\n",
    "**\t          Power: Returns first raised to power second\tx ** y\n"
   ]
  },
  {
   "cell_type": "code",
   "execution_count": null,
   "id": "2108ebec",
   "metadata": {},
   "outputs": [],
   "source": []
  },
  {
   "cell_type": "code",
   "execution_count": null,
   "id": "92a92689",
   "metadata": {},
   "outputs": [],
   "source": [
    "# addition\n"
   ]
  },
  {
   "cell_type": "code",
   "execution_count": null,
   "id": "528788d7",
   "metadata": {},
   "outputs": [],
   "source": [
    "#subtraction\n",
    "\n",
    "#abs(a-b)"
   ]
  },
  {
   "cell_type": "code",
   "execution_count": null,
   "id": "42340996",
   "metadata": {},
   "outputs": [],
   "source": [
    "#multiplication\n"
   ]
  },
  {
   "cell_type": "code",
   "execution_count": null,
   "id": "a6f0d692",
   "metadata": {},
   "outputs": [],
   "source": [
    "#division\n"
   ]
  },
  {
   "cell_type": "code",
   "execution_count": null,
   "id": "c95f5c82",
   "metadata": {},
   "outputs": [],
   "source": []
  },
  {
   "cell_type": "code",
   "execution_count": null,
   "id": "5c1a7df2",
   "metadata": {},
   "outputs": [],
   "source": [
    "#modulo of both number "
   ]
  },
  {
   "cell_type": "code",
   "execution_count": null,
   "id": "507a635e",
   "metadata": {},
   "outputs": [],
   "source": []
  },
  {
   "cell_type": "code",
   "execution_count": null,
   "id": "7bc5816d",
   "metadata": {},
   "outputs": [],
   "source": [
    "#power\n"
   ]
  },
  {
   "cell_type": "code",
   "execution_count": null,
   "id": "d87cff68",
   "metadata": {},
   "outputs": [],
   "source": [
    "#print results\n"
   ]
  },
  {
   "cell_type": "code",
   "execution_count": null,
   "id": "10f9b307",
   "metadata": {},
   "outputs": [],
   "source": [
    "#### Bitwise operators"
   ]
  },
  {
   "cell_type": "raw",
   "id": "89ebcdba",
   "metadata": {},
   "source": [
    "In Python, bitwise operators are used to performing bitwise calculations on integers. The integers are first converted into binary and then operations are performed on bit by bit, hence the name bitwise operators\n",
    "\n",
    "OPERATOR\t       DESCRIPTION\tSYNTAX\n",
    "\n",
    "&\t               Bitwise AND\tx & y\n",
    "\n",
    "|\t               Bitwise OR\tx | y\n",
    "\n",
    "~\t               Bitwise NOT\t~x\n"
   ]
  },
  {
   "cell_type": "markdown",
   "id": "aa393e49",
   "metadata": {},
   "source": [
    "Bitwise AND operator: Returns 1 if both the bits are 1 else 0."
   ]
  },
  {
   "cell_type": "code",
   "execution_count": null,
   "id": "8a0ed924",
   "metadata": {},
   "outputs": [],
   "source": [
    "a=10\n",
    "b=4\n"
   ]
  },
  {
   "cell_type": "code",
   "execution_count": null,
   "id": "b0389a42",
   "metadata": {},
   "outputs": [],
   "source": []
  },
  {
   "cell_type": "markdown",
   "id": "cc96d5a4",
   "metadata": {},
   "source": [
    "Bitwise or operator: Returns 1 if either of the bit is 1 else 0."
   ]
  },
  {
   "cell_type": "code",
   "execution_count": null,
   "id": "bc33e689",
   "metadata": {},
   "outputs": [],
   "source": [
    "a=10\n",
    "b=4\n"
   ]
  },
  {
   "cell_type": "markdown",
   "id": "c9f1b7dd",
   "metadata": {},
   "source": [
    "Bitwise not operator: Returns one’s complement of the number.\n",
    "1's complement: flipping the bits\n",
    "2's complement: add 1 to 1's complement"
   ]
  },
  {
   "cell_type": "code",
   "execution_count": null,
   "id": "e8500c0d",
   "metadata": {},
   "outputs": [],
   "source": [
    "a=10\n"
   ]
  },
  {
   "cell_type": "code",
   "execution_count": null,
   "id": "c9544fa0",
   "metadata": {},
   "outputs": [],
   "source": [
    "#### Relational operators"
   ]
  },
  {
   "cell_type": "raw",
   "id": "091f92c1",
   "metadata": {},
   "source": [
    "Operator\t                             Description\t                                      Syntax\n",
    "<\t                               Less than: True if the left operand is less than the right\tx < y\n",
    "==\t                               Equal to: True if both operands are equal\t                x == y\n",
    "!=\t                               Not equal to – True if operands are not equal\t            x != y\n",
    ">=\t                               Greater than or equal to: True if left operand is            x >= y\n",
    "                                     greater than or equal to the right\t"
   ]
  },
  {
   "cell_type": "code",
   "execution_count": null,
   "id": "192cd3cf",
   "metadata": {},
   "outputs": [],
   "source": [
    "a=13\n",
    "b=33\n"
   ]
  },
  {
   "cell_type": "code",
   "execution_count": null,
   "id": "43523dca",
   "metadata": {},
   "outputs": [],
   "source": []
  },
  {
   "cell_type": "code",
   "execution_count": null,
   "id": "a1ffc9f3",
   "metadata": {},
   "outputs": [],
   "source": []
  },
  {
   "cell_type": "code",
   "execution_count": null,
   "id": "751a5cfd",
   "metadata": {},
   "outputs": [],
   "source": []
  },
  {
   "cell_type": "code",
   "execution_count": null,
   "id": "7dc9c43c",
   "metadata": {},
   "outputs": [],
   "source": []
  },
  {
   "cell_type": "code",
   "execution_count": null,
   "id": "0516f3e5",
   "metadata": {},
   "outputs": [],
   "source": []
  },
  {
   "cell_type": "markdown",
   "id": "d14777cc",
   "metadata": {},
   "source": [
    "#### Boolean operators\n",
    "The logical operators and, or and not are also referred to as boolean operators."
   ]
  },
  {
   "cell_type": "raw",
   "id": "c16e3c08",
   "metadata": {},
   "source": [
    "Operator\t             Description\t                                              Example\n",
    "and\t             Returns True if both statements are true\t                     x < 5 and x < 10\n",
    "or\t             Returns True if one of the statements is true\t                 x < 5 or x < 4\n",
    "not\t             Reverse the result, returns False if the result is true \t     not(x < 5 and x < 10)"
   ]
  },
  {
   "cell_type": "markdown",
   "id": "18e4a018",
   "metadata": {},
   "source": [
    "##### and operator\n",
    "returns true if both operands return true."
   ]
  },
  {
   "cell_type": "code",
   "execution_count": null,
   "id": "23ccc26a",
   "metadata": {},
   "outputs": [],
   "source": [
    "a=50\n",
    "b=25\n"
   ]
  },
  {
   "cell_type": "code",
   "execution_count": null,
   "id": "300b6c3a",
   "metadata": {},
   "outputs": [],
   "source": []
  },
  {
   "cell_type": "code",
   "execution_count": null,
   "id": "72042be5",
   "metadata": {},
   "outputs": [],
   "source": [
    "##### or operator returns true if any one operand is true\n",
    "a=50\n",
    "b=25\n"
   ]
  },
  {
   "cell_type": "code",
   "execution_count": null,
   "id": "62fef762",
   "metadata": {},
   "outputs": [],
   "source": [
    "##### The not operator returns true if its operand is a false expression and returns false if it is true\n"
   ]
  },
  {
   "cell_type": "code",
   "execution_count": null,
   "id": "1076fe57",
   "metadata": {},
   "outputs": [],
   "source": [
    "#### Assignment operators"
   ]
  },
  {
   "cell_type": "raw",
   "id": "1eea61bd",
   "metadata": {},
   "source": [
    "Python Assignment Operators\n",
    "Operator\t                     Example\t        Same As\n",
    "+=\t                              x += 3\t     x = x + 3\n",
    "-=\t                              x -= 3\t     x = x - 3\n",
    "*=\t                              x *= 3\t     x = x * 3\n",
    "/=\t                              x /= 3\t     x = x / 3"
   ]
  },
  {
   "cell_type": "code",
   "execution_count": null,
   "id": "c53d92cd",
   "metadata": {},
   "outputs": [],
   "source": []
  },
  {
   "cell_type": "code",
   "execution_count": null,
   "id": "2f88603e",
   "metadata": {},
   "outputs": [],
   "source": [
    "#add and assign value\n"
   ]
  },
  {
   "cell_type": "code",
   "execution_count": null,
   "id": "a9d9b9a0",
   "metadata": {},
   "outputs": [],
   "source": []
  },
  {
   "cell_type": "raw",
   "id": "0dafd633",
   "metadata": {},
   "source": [
    "PRECEDENCE:\n",
    "\n",
    "P – Parentheses\n",
    "E – Exponentiation\n",
    "M – Multiplication     (Multiplication and division have the same precedence)\n",
    "D – Division\n",
    "A – Addition     (Addition and subtraction have the same precedence)\n",
    "S – Subtraction"
   ]
  },
  {
   "cell_type": "markdown",
   "id": "b6a38b6c",
   "metadata": {},
   "source": [
    "For example, x = 7 + 3 * 2; here, x is assigned 13, not 20 because operator * has higher precedence than +, so it first multiplies 3*2 and then adds into 7.\n",
    "\n",
    "Here, operators with the highest precedence appear at the top of the table, those with the lowest appear at the bottom."
   ]
  },
  {
   "cell_type": "code",
   "execution_count": null,
   "id": "843c2a66",
   "metadata": {},
   "outputs": [],
   "source": [
    "a = 20\n",
    "b = 10\n",
    "c = 15\n",
    "d = 5\n",
    "e = 0\n",
    "\n",
    "e = (a + b) * c / d       #( 30 * 15 ) / 5\n",
    "print (\"Value of (a + b) * c / d is \",  e)\n",
    "\n",
    "e = ((a + b) * c) / d     # (30 * 15 ) / 5\n",
    "print (\"Value of ((a + b) * c) / d is \",  e)\n",
    "\n",
    "e = (a + b) * (c / d);    # (30) * (15/5)\n",
    "print (\"Value of (a + b) * (c / d) is \",  e)\n",
    "\n",
    "e = a + (b * c) / d;      #  20 + (150/5)\n",
    "print (\"Value of a + (b * c) / d is \",  e)"
   ]
  },
  {
   "cell_type": "code",
   "execution_count": null,
   "id": "78bb0cca",
   "metadata": {},
   "outputs": [],
   "source": [
    "#### Hands-on -Exercise"
   ]
  },
  {
   "cell_type": "code",
   "execution_count": null,
   "id": "64bd7961",
   "metadata": {},
   "outputs": [],
   "source": [
    "# #  Find the average of two numbers entered by the user.\n"
   ]
  },
  {
   "cell_type": "code",
   "execution_count": null,
   "id": "39f4b2e8",
   "metadata": {},
   "outputs": [],
   "source": [
    "# Find the remainder when a number is divided by 2.\n"
   ]
  },
  {
   "cell_type": "code",
   "execution_count": null,
   "id": "1cb3757f",
   "metadata": {},
   "outputs": [],
   "source": [
    "#Use comparison operators to find out whether a given variable a is greater than b or not. Take a=34, b=80.\n"
   ]
  },
  {
   "cell_type": "code",
   "execution_count": null,
   "id": "60b52beb",
   "metadata": {},
   "outputs": [],
   "source": [
    "# Calculate square of a number entered by the user.\n"
   ]
  },
  {
   "cell_type": "markdown",
   "id": "aa0e1eb5",
   "metadata": {},
   "source": [
    "---------------------------------------------------- End ---------------------------------------------"
   ]
  }
 ],
 "metadata": {
  "kernelspec": {
   "display_name": "Python 3 (ipykernel)",
   "language": "python",
   "name": "python3"
  },
  "language_info": {
   "codemirror_mode": {
    "name": "ipython",
    "version": 3
   },
   "file_extension": ".py",
   "mimetype": "text/x-python",
   "name": "python",
   "nbconvert_exporter": "python",
   "pygments_lexer": "ipython3",
   "version": "3.11.5"
  }
 },
 "nbformat": 4,
 "nbformat_minor": 5
}
